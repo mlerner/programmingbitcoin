{
 "cells": [
  {
   "cell_type": "code",
   "execution_count": 1,
   "metadata": {},
   "outputs": [],
   "source": [
    "############## PLEASE RUN THIS CELL FIRST! ###################\n",
    "\n",
    "# import everything and define a test runner function\n",
    "from importlib import reload\n",
    "from helper import run\n",
    "import ecc\n",
    "import helper\n",
    "import tx\n",
    "import script"
   ]
  },
  {
   "cell_type": "code",
   "execution_count": 2,
   "metadata": {},
   "outputs": [
    {
     "name": "stdout",
     "output_type": "stream",
     "text": [
      "True\n"
     ]
    }
   ],
   "source": [
    "from tx import Tx\n",
    "from io import BytesIO\n",
    "raw_tx = ('0100000001813f79011acb80925dfe69b3def355fe914bd1d96a3f5f71bf8303c6a989c7d1000000006b483045022100ed81ff192e75a3fd2304004dcadb746fa5e24c5031ccfcf21320b0277457c98f02207a986d955c6e0cb35d446a89d3f56100f4d7f67801c31967743a9c8e10615bed01210349fc4e631e3624a545de3f89f5d8684c7b8138bd94bdd531d2e213bf016b278afeffffff02a135ef01000000001976a914bc3b654dca7e56b04dca18f2566cdaf02e8d9ada88ac99c39800000000001976a9141c4bc762dd5423e332166702cb75f40df79fea1288ac19430600')\n",
    "stream = BytesIO(bytes.fromhex(raw_tx))\n",
    "transaction = Tx.parse(stream)\n",
    "print(transaction.fee() >= 0)"
   ]
  },
  {
   "cell_type": "code",
   "execution_count": 3,
   "metadata": {},
   "outputs": [
    {
     "name": "stdout",
     "output_type": "stream",
     "text": [
      "True\n"
     ]
    }
   ],
   "source": [
    "from ecc import S256Point, Signature\n",
    "sec = bytes.fromhex('0349fc4e631e3624a545de3f89f5d8684c7b8138bd94bdd531d2e213bf016b278a')\n",
    "der = bytes.fromhex('3045022100ed81ff192e75a3fd2304004dcadb746fa5e24c5031ccfcf21320b0277457c98f02207a986d955c6e0cb35d446a89d3f56100f4d7f67801c31967743a9c8e10615bed')\n",
    "z = 0x27e0c5994dec7824e56dec6b2fcb342eb7cdb0d0957c2fce9882f715e85d81a6\n",
    "point = S256Point.parse(sec)\n",
    "signature = Signature.parse(der)\n",
    "print(point.verify(z, signature))"
   ]
  },
  {
   "cell_type": "code",
   "execution_count": 4,
   "metadata": {},
   "outputs": [
    {
     "name": "stdout",
     "output_type": "stream",
     "text": [
      "0x27e0c5994dec7824e56dec6b2fcb342eb7cdb0d0957c2fce9882f715e85d81a6\n"
     ]
    }
   ],
   "source": [
    "from helper import hash256\n",
    "modified_tx = bytes.fromhex('0100000001813f79011acb80925dfe69b3def355fe914bd1d96a3f5f71bf8303c6a989c7d1000000001976a914a802fc56c704ce87c42d7c92eb75e7896bdc41ae88acfeffffff02a135ef01000000001976a914bc3b654dca7e56b04dca18f2566cdaf02e8d9ada88ac99c39800000000001976a9141c4bc762dd5423e332166702cb75f40df79fea1288ac1943060001000000')\n",
    "h256 = hash256(modified_tx)\n",
    "z = int.from_bytes(h256, 'big')\n",
    "print(hex(z))"
   ]
  },
  {
   "cell_type": "code",
   "execution_count": 5,
   "metadata": {},
   "outputs": [
    {
     "data": {
      "text/plain": [
       "True"
      ]
     },
     "execution_count": 5,
     "metadata": {},
     "output_type": "execute_result"
    }
   ],
   "source": [
    "from ecc import S256Point, Signature\n",
    "sec = bytes.fromhex('0349fc4e631e3624a545de3f89f5d8684c7b8138bd94bdd531d2e213bf016b278a')\n",
    "der = bytes.fromhex('3045022100ed81ff192e75a3fd2304004dcadb746fa5e24c5031ccfcf21320b0277457c98f02207a986d955c6e0cb35d446a89d3f56100f4d7f67801c31967743a9c8e10615bed')\n",
    "z = 0x27e0c5994dec7824e56dec6b2fcb342eb7cdb0d0957c2fce9882f715e85d81a6\n",
    "point = S256Point.parse(sec)\n",
    "signature = Signature.parse(der)\n",
    "point.verify(z, signature)"
   ]
  },
  {
   "cell_type": "markdown",
   "metadata": {},
   "source": [
    "### Exercise 1\n",
    "\n",
    "Write the `sig_hash` method for the `Tx` class.\n",
    "\n",
    "#### Make [this test](/edit/code-ch07/tx.py) pass: `tx.py:TxTest:test_sig_hash`"
   ]
  },
  {
   "cell_type": "code",
   "execution_count": 7,
   "metadata": {},
   "outputs": [
    {
     "name": "stderr",
     "output_type": "stream",
     "text": [
      ".\n",
      "----------------------------------------------------------------------\n",
      "Ran 1 test in 0.004s\n",
      "\n",
      "OK\n"
     ]
    }
   ],
   "source": [
    "# Exercise 1\n",
    "\n",
    "reload(tx)\n",
    "run(tx.TxTest(\"test_sig_hash\"))"
   ]
  },
  {
   "cell_type": "markdown",
   "metadata": {},
   "source": [
    "### Exercise 2\n",
    "\n",
    "Write the `verify_input` method for the `Tx` class. You will want to use the `TxIn.script_pubkey()`, `Tx.sig_hash()` and `Script.evaluate()` methods.\n",
    "\n",
    "#### Make [this test](/edit/code-ch07/tx.py) pass: `tx.py:TxTest:test_verify_p2pkh`"
   ]
  },
  {
   "cell_type": "code",
   "execution_count": 8,
   "metadata": {},
   "outputs": [
    {
     "name": "stderr",
     "output_type": "stream",
     "text": [
      ".\n",
      "----------------------------------------------------------------------\n",
      "Ran 1 test in 0.214s\n",
      "\n",
      "OK\n"
     ]
    }
   ],
   "source": [
    "\n",
    "# Exercise 2\n",
    "\n",
    "reload(tx)\n",
    "run(tx.TxTest(\"test_verify_p2pkh\"))"
   ]
  },
  {
   "cell_type": "code",
   "execution_count": 9,
   "metadata": {},
   "outputs": [
    {
     "name": "stdout",
     "output_type": "stream",
     "text": [
      "tx: cd30a8da777d28ef0e61efe68a9f7c559c1d3e5bcd7b265c850ccb4068598d11\n",
      "version: 1\n",
      "tx_ins:\n",
      "0d6fe5213c0b3291f208cba8bfb59b7476dffacc4e5cb66f6eb20a080843a299:13\n",
      "tx_outs:\n",
      "33000000:OP_DUP OP_HASH160 d52ad7ca9b3d096a38e752c2018e6fbc40cdf26f OP_EQUALVERIFY OP_CHECKSIG\n",
      "10000000:OP_DUP OP_HASH160 507b27411ccf7f16f10297de6cef3f291623eddf OP_EQUALVERIFY OP_CHECKSIG\n",
      "locktime: 0\n"
     ]
    }
   ],
   "source": [
    "from helper import decode_base58, SIGHASH_ALL\n",
    "from script import p2pkh_script, Script\n",
    "from tx import TxIn, TxOut, Tx\n",
    "prev_tx = bytes.fromhex('0d6fe5213c0b3291f208cba8bfb59b7476dffacc4e5cb66f6eb20a080843a299')\n",
    "prev_index = 13\n",
    "tx_in = TxIn(prev_tx, prev_index)\n",
    "tx_outs = []\n",
    "change_amount = int(0.33*100000000)\n",
    "change_h160 = decode_base58('mzx5YhAH9kNHtcN481u6WkjeHjYtVeKVh2')\n",
    "change_script = p2pkh_script(change_h160)\n",
    "change_output = TxOut(amount=change_amount, script_pubkey=change_script)\n",
    "target_amount = int(0.1*100000000)\n",
    "target_h160 = decode_base58('mnrVtF8DWjMu839VW3rBfgYaAfKk8983Xf')\n",
    "target_script = p2pkh_script(target_h160)\n",
    "target_output = TxOut(amount=target_amount, script_pubkey=target_script)\n",
    "tx_obj = Tx(1, [tx_in], [change_output, target_output], 0, True)\n",
    "print(tx_obj)"
   ]
  },
  {
   "cell_type": "code",
   "execution_count": 10,
   "metadata": {},
   "outputs": [
    {
     "name": "stdout",
     "output_type": "stream",
     "text": [
      "0100000001813f79011acb80925dfe69b3def355fe914bd1d96a3f5f71bf8303c6a989c7d1000000006a47304402207db2402a3311a3b845b038885e3dd889c08126a8570f26a844e3e4049c482a11022010178cdca4129eacbeab7c44648bf5ac1f9cac217cd609d216ec2ebc8d242c0a012103935581e52c354cd2f484fe8ed83af7a3097005b2f9c60bff71d35bd795f54b67feffffff02a135ef01000000001976a914bc3b654dca7e56b04dca18f2566cdaf02e8d9ada88ac99c39800000000001976a9141c4bc762dd5423e332166702cb75f40df79fea1288ac19430600\n"
     ]
    }
   ],
   "source": [
    "from ecc import PrivateKey\n",
    "from helper import SIGHASH_ALL\n",
    "z = transaction.sig_hash(0)\n",
    "private_key = PrivateKey(secret=8675309)\n",
    "der = private_key.sign(z).der()\n",
    "sig = der + SIGHASH_ALL.to_bytes(1, 'big')\n",
    "sec = private_key.point.sec()\n",
    "script_sig = Script([sig, sec])\n",
    "transaction.tx_ins[0].script_sig = script_sig \n",
    "print(transaction.serialize().hex())"
   ]
  },
  {
   "cell_type": "code",
   "execution_count": 11,
   "metadata": {},
   "outputs": [
    {
     "name": "stdout",
     "output_type": "stream",
     "text": [
      "mn81594PzKZa9K3Jyy1ushpuEzrnTnxhVg\n"
     ]
    }
   ],
   "source": [
    "from ecc import PrivateKey\n",
    "from helper import hash256, little_endian_to_int\n",
    "secret = little_endian_to_int(hash256(b'Jimmy Song secret'))\n",
    "private_key = PrivateKey(secret)\n",
    "print(private_key.point.address(testnet=True))"
   ]
  },
  {
   "cell_type": "markdown",
   "metadata": {},
   "source": [
    "### Exercise 3\n",
    "\n",
    "Write the `sign_input` method for the `Tx` class.\n",
    "\n",
    "#### Make [this test](/edit/code-ch07/tx.py) pass: `tx.py:TxTest:test_sign_input`"
   ]
  },
  {
   "cell_type": "code",
   "execution_count": 16,
   "metadata": {},
   "outputs": [
    {
     "name": "stderr",
     "output_type": "stream",
     "text": [
      ".\n",
      "----------------------------------------------------------------------\n",
      "Ran 1 test in 0.165s\n",
      "\n",
      "OK\n"
     ]
    }
   ],
   "source": [
    "# Exercise 3\n",
    "\n",
    "reload(tx)\n",
    "run(tx.TxTest(\"test_sign_input\"))"
   ]
  },
  {
   "cell_type": "markdown",
   "metadata": {},
   "source": [
    "### Exercise 4\n",
    "\n",
    "Create a testnet transaction that sends 60% of a single UTXO to `mwJn1YPMq7y5F8J3LkC5Hxg9PHyZ5K4cFv`. The remaining amount minus fees should go back to your own change address. This should be a 1 input, 2 output transaction.\n",
    "\n",
    "You can broadcast the transaction at https://testnet.blockchain.info/pushtx"
   ]
  },
  {
   "cell_type": "code",
   "execution_count": 38,
   "metadata": {},
   "outputs": [
    {
     "name": "stdout",
     "output_type": "stream",
     "text": [
      "tx: 2d787742f2d93c633e106211689d775be1b3d35a70a20f982c7b41600857691d\n",
      "version: 2\n",
      "tx_ins:\n",
      "2765adc03a6d5d861a18887325d8118c02155ed7a0e1bfd6c67e2199bb7e4cee:1\n",
      "tx_outs:\n",
      "1609625:OP_HASH160 67da09f581e4a847da0f875376cc38d2d60922b5 OP_EQUAL\n",
      "10000:OP_DUP OP_HASH160 73b72b4c99ad42e8f2d77363197a7f8d4a09b403 OP_EQUALVERIFY OP_CHECKSIG\n",
      "locktime: 1607743\n",
      "73b72b4c99ad42e8f2d77363197a7f8d4a09b403\n",
      "mr4oRvrU2CiNrYJw7adbfpS6mYEVoNLAYR\n",
      "01000000011d69570860417b2c980fa2705ad3b3e15b779d681162103e633cd9f24277782d010000006a473044022036a09d66799b911b78a4b5905f5e88d61ce41a044f9fb333e31a7cbbf745c7a602206842982a95968a34d0765962bfb72b24cb718b338ce469b7401c975883e3dc330121020a75f60d84b35ef39ca8ae8114281873ce8209cc8a3e1905a02046222003b38dffffffff02e8030000000000001976a914ad346f8eb57dee9a37981716e498120ae80e44f788ac64000000000000001976a91473b72b4c99ad42e8f2d77363197a7f8d4a09b40388ac00000000\n"
     ]
    }
   ],
   "source": [
    "# Exercise 4\n",
    "\n",
    "from ecc import PrivateKey\n",
    "from helper import decode_base58, SIGHASH_ALL\n",
    "from script import p2pkh_script, Script\n",
    "from tx import TxIn, TxOut, Tx, TxFetcher\n",
    "\n",
    "\n",
    "# create 1 TxIn and 2 TxOuts\n",
    "# 1 of the TxOuts should be back to your address\n",
    "# the other TxOut should be to this address\n",
    "target_address = 'mwJn1YPMq7y5F8J3LkC5Hxg9PHyZ5K4cFv'\n",
    "\n",
    "# get the private key from the exercise in Chapter 4\n",
    "# change address should be the address generated from Chapter 4\n",
    "\n",
    "prev_tx = TxFetcher.fetch('2d787742f2d93c633e106211689d775be1b3d35a70a20f982c7b41600857691d', testnet=True)\n",
    "print(prev_tx)\n",
    "print(decode_base58('mr4oRvrU2CiNrYJw7adbfpS6mYEVoNLAYR').hex())\n",
    "# get the prev_tx and prev_index from the transaction where you got\n",
    "# some testnet coins\n",
    "# create a transaction input for the previous transaction with\n",
    "# the default ScriptSig and sequence\n",
    "tx_in = TxIn(\n",
    "    bytes.fromhex('2d787742f2d93c633e106211689d775be1b3d35a70a20f982c7b41600857691d'),\n",
    "    1\n",
    ")\n",
    "\n",
    "# target amount should be 60% of the output amount\n",
    "# set the fee to some reasonable amount\n",
    "# change amount = amount from the prev tx - target amount - fee\n",
    "\n",
    "# create a transaction output for the target amount and address\n",
    "tx_out_target = TxOut(\n",
    "    1000,\n",
    "    p2pkh_script(decode_base58(target_address))\n",
    ")\n",
    "\n",
    "# create a transaction output for the change amount and address\n",
    "\n",
    "tx_out_change = TxOut(\n",
    "    100,\n",
    "    p2pkh_script(decode_base58('mr4oRvrU2CiNrYJw7adbfpS6mYEVoNLAYR'))\n",
    ")\n",
    "\n",
    "\n",
    "# create the transaction object\n",
    "tx = Tx(\n",
    "    1,\n",
    "    [tx_in],\n",
    "    [tx_out_target, tx_out_change],\n",
    "    0,\n",
    "    testnet=True\n",
    ")\n",
    "\n",
    "passphrase = b'your@email.address H998wFCmmQxn'\n",
    "secret = little_endian_to_int(hash256(passphrase))\n",
    "\n",
    "pk = PrivateKey(secret)\n",
    "print(pk.point.address(testnet=True, compressed=True))\n",
    "\n",
    "# sign the one input in the transaction object using the private key\n",
    "tx.sign_input(0, pk)\n",
    "\n",
    "# print the transaction's serialization in hex\n",
    "\n",
    "print(tx.serialize().hex())\n",
    "# broadcast at http://testnet.blockchain.info/pushtx"
   ]
  },
  {
   "cell_type": "markdown",
   "metadata": {},
   "source": [
    "### Exercise 5\n",
    "\n",
    "Advanced: get some more testnet coins from a testnet faucet and create a 2 input, 1 output transaction. 1 input should be from the faucet, the other should be from the previous exercise, the output can be your own address.\n",
    "\n",
    "You can broadcast the transaction at https://testnet.blockchain.info/pushtx"
   ]
  },
  {
   "cell_type": "code",
   "execution_count": 39,
   "metadata": {},
   "outputs": [
    {
     "name": "stdout",
     "output_type": "stream",
     "text": [
      "tx: ddcfa3f132356f2eebafc49625a48f3c31e699e327744f52805c4e98638130fa\n",
      "version: 1\n",
      "tx_ins:\n",
      "2d787742f2d93c633e106211689d775be1b3d35a70a20f982c7b41600857691d:1\n",
      "tx_outs:\n",
      "6000:OP_DUP OP_HASH160 ad346f8eb57dee9a37981716e498120ae80e44f7 OP_EQUALVERIFY OP_CHECKSIG\n",
      "1000:OP_DUP OP_HASH160 73b72b4c99ad42e8f2d77363197a7f8d4a09b403 OP_EQUALVERIFY OP_CHECKSIG\n",
      "locktime: 0\n",
      "73b72b4c99ad42e8f2d77363197a7f8d4a09b403\n",
      "0100000002fa308163984e5c80524f7427e399e6313c8fa42596c4afeb2e6f3532f1a3cfdd010000006b48304502210088c3c2b640a8ce76c3c776b4453bc68a32f0a74ea1b7f41756608cb7663a5ba502201f333229b696cd92a7e2b9d295458146c285d5bebb46dad23d9fb008b2fd872e0121020a75f60d84b35ef39ca8ae8114281873ce8209cc8a3e1905a02046222003b38dffffffff380cd1f46f7e205e1114c0922ad26f6b935430fe80e639131afc1a3b2df9abc5000000006b483045022100a0dc5b7c0933265ca67feed003b30bbc1e552084c3d8540565598ab7d7c8ce7f02202790ce5b9566af259a7fb2c37b99257653764cf45292561c3b7cf76ec11f49f50121020a75f60d84b35ef39ca8ae8114281873ce8209cc8a3e1905a02046222003b38dffffffff01e8030000000000001976a91473b72b4c99ad42e8f2d77363197a7f8d4a09b40388ac00000000\n"
     ]
    }
   ],
   "source": [
    "# Exercise 5\n",
    "\n",
    "from ecc import PrivateKey\n",
    "from helper import decode_base58, SIGHASH_ALL\n",
    "from script import p2pkh_script, Script\n",
    "from tx import TxIn, TxOut, Tx\n",
    "\n",
    "# Create 2 TxIns, 1 from the Exercise 4 and 1 from a testnet faucet\n",
    "# Creat 1 TxOut to the address above\n",
    "target_address = 'mwJn1YPMq7y5F8J3LkC5Hxg9PHyZ5K4cFv'\n",
    "\n",
    "# get the private key from the exercise in Chapter 4\n",
    "\n",
    "# get the prev_tx and prev_index from the transaction where you got\n",
    "\n",
    "prev_tx = TxFetcher.fetch('ddcfa3f132356f2eebafc49625a48f3c31e699e327744f52805c4e98638130fa', testnet=True)\n",
    "print(prev_tx)\n",
    "print(decode_base58('mr4oRvrU2CiNrYJw7adbfpS6mYEVoNLAYR').hex())\n",
    "# get the prev_tx and prev_index from the transaction where you got\n",
    "# some testnet coins\n",
    "# create a transaction input for the previous transaction with\n",
    "# the default ScriptSig and sequence\n",
    "\n",
    "# some testnet coins\n",
    "# create the first transaction input with the default ScriptSig and\n",
    "# sequence\n",
    "# get the prev_tx and prev_index from the transaction in Exercise 4\n",
    "tx_in_change = TxIn(\n",
    "    bytes.fromhex('ddcfa3f132356f2eebafc49625a48f3c31e699e327744f52805c4e98638130fa'),\n",
    "    1\n",
    ")\n",
    "\n",
    "# create the second transaction input with the default ScriptSig and\n",
    "# sequence\n",
    "tx_in_faucet = TxIn(\n",
    "    bytes.fromhex('c5abf92d3b1afc1a1339e680fe3054936b6fd22a92c014115e207e6ff4d10c38'),\n",
    "    0\n",
    ")\n",
    "\n",
    "# create a transaction output for the amount and address\n",
    "# set the fee to some reasonable amount\n",
    "# target amount should be the sum of the inputs - fee\n",
    "tx_out = TxOut(\n",
    "    1000,\n",
    "    p2pkh_script(decode_base58('mr4oRvrU2CiNrYJw7adbfpS6mYEVoNLAYR'))\n",
    ")\n",
    "\n",
    "tx = Tx(\n",
    "    1,\n",
    "    [tx_in_change, tx_in_faucet],\n",
    "    [tx_out],\n",
    "    0,\n",
    "    testnet=True\n",
    ")\n",
    "\n",
    "# sign the first input using the private key\n",
    "tx.sign_input(0, pk)\n",
    "# sign the second input using the private key \n",
    "tx.sign_input(1, pk)\n",
    "\n",
    "# print the transaction's serialization in hex\n",
    "print(tx.serialize().hex())\n",
    "\n",
    "\n",
    "\n",
    "\n",
    "# broadcast at http://testnet.blockchain.info/pushtx"
   ]
  }
 ],
 "metadata": {
  "kernelspec": {
   "display_name": "Python 3",
   "language": "python",
   "name": "python3"
  },
  "language_info": {
   "codemirror_mode": {
    "name": "ipython",
    "version": 3
   },
   "file_extension": ".py",
   "mimetype": "text/x-python",
   "name": "python",
   "nbconvert_exporter": "python",
   "pygments_lexer": "ipython3",
   "version": "3.7.0"
  }
 },
 "nbformat": 4,
 "nbformat_minor": 2
}
